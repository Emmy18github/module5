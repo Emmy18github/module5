{
 "cells": [
  {
   "cell_type": "markdown",
   "metadata": {},
   "source": [
    "1. Round 4.5667 to the nearest hundreth using a build-in function, round()."
   ]
  },
  {
   "cell_type": "code",
   "execution_count": 1,
   "metadata": {},
   "outputs": [
    {
     "data": {
      "text/plain": [
       "4.57"
      ]
     },
     "execution_count": 1,
     "metadata": {},
     "output_type": "execute_result"
    }
   ],
   "source": [
    "num = 4.5667\n",
    "round(num,2)"
   ]
  },
  {
   "cell_type": "markdown",
   "metadata": {},
   "source": [
    "2. Convert \"657\" to an integer data type"
   ]
  },
  {
   "cell_type": "code",
   "execution_count": 2,
   "metadata": {},
   "outputs": [
    {
     "name": "stdout",
     "output_type": "stream",
     "text": [
      "657\n"
     ]
    }
   ],
   "source": [
    "print(int(\"657\"))"
   ]
  },
  {
   "cell_type": "markdown",
   "metadata": {},
   "source": [
    "3.\n",
    "Write a program to get two numbers from a user. Then, create a secret code where a code consists of 6 numbers and each number is randomly generated number between two numbers from a user. "
   ]
  },
  {
   "cell_type": "code",
   "execution_count": 3,
   "metadata": {},
   "outputs": [
    {
     "name": "stdout",
     "output_type": "stream",
     "text": [
      "Please enter a number: 1\n",
      "Please enter another number: 100\n",
      "Secret code = 53 82 58 43 78 79 \n"
     ]
    }
   ],
   "source": [
    "import random as rand\n",
    "num1 = int(input(\"Please enter a number: \"))\n",
    "num2 = int(input(\"Please enter another number: \"))\n",
    "\n",
    "secret_code = \"\"\n",
    "for x in range(1,7):\n",
    "    secret_code += str(rand.randint(num1, num2))+ \" \"\n",
    "print(f\"Secret code = {secret_code}\")\n"
   ]
  },
  {
   "cell_type": "markdown",
   "metadata": {},
   "source": [
    "4.\n",
    "Write a program to center align below text where number of characters per line is 40:\n",
    "\n",
    "    Hickory, dickory, dock,\n",
    "    The mouse ran up the clock.\n",
    "    The clock struck one,\n",
    "    The mouse ran down,\n",
    "    Hickory, dickory, dock\n",
    "\n",
    "<b>Do not use string's center method! </b>"
   ]
  },
  {
   "cell_type": "code",
   "execution_count": 4,
   "metadata": {},
   "outputs": [
    {
     "name": "stdout",
     "output_type": "stream",
     "text": [
      "1234567890123456789012345678901234567890\n",
      "\n",
      "        Hickory, dickory, dock,         \n",
      "      The mouse ran up the clock.       \n",
      "         The clock struck one,          \n",
      "          The mouse ran down,           \n",
      "         Hickory, dickory, dock         \n"
     ]
    }
   ],
   "source": [
    "line1 = \"Hickory, dickory, dock,\"\n",
    "line2 = \"The mouse ran up the clock.\"\n",
    "line3 = \"The clock struck one,\"\n",
    "line4 = \"The mouse ran down,\"\n",
    "line5 = \"Hickory, dickory, dock\"\n",
    "\n",
    "diff1 = 40 - len(line1)\n",
    "diff2 = 40 - len(line2)\n",
    "diff3 = 40 - len(line3)\n",
    "diff4 = 40 - len(line4)\n",
    "diff5 = 40 - len(line5)\n",
    "\n",
    "print(\"1234567890123456789012345678901234567890\\n\")\n",
    "\n",
    "print(f\"{' ' * int(diff1 / 2)}{line1}{' ' * (int(diff1) - int(diff1 / 2))}\")\n",
    "print(f\"{' ' * int(diff2 / 2)}{line2}{' ' * (int(diff2) - int(diff2 / 2))}\")\n",
    "print(f\"{' ' * int(diff3 / 2)}{line3}{' ' * (int(diff3) - int(diff3 / 2))}\")\n",
    "print(f\"{' ' * int(diff4 / 2)}{line4}{' ' * (int(diff4) - int(diff4 / 2))}\")\n",
    "print(f\"{' ' * int(diff5 / 2)}{line5}{' ' * (int(diff5) - int(diff5 / 2))}\")\n",
    "    \n",
    "\n"
   ]
  },
  {
   "cell_type": "markdown",
   "metadata": {},
   "source": [
    "5. Write a function to calculate the miles per gallon.\n",
    "Get a miles driven and gallons used from a user and call your function to calculate the miles per gallon. "
   ]
  },
  {
   "cell_type": "code",
   "execution_count": 5,
   "metadata": {},
   "outputs": [
    {
     "name": "stdout",
     "output_type": "stream",
     "text": [
      "Please enter miles: 10\n",
      "Please enter gallons:  5\n",
      "10 miles / 5 gallons = 2.0 miles per gallon\n"
     ]
    }
   ],
   "source": [
    "def calc_miles_per_gallon(miles, gallons):\n",
    "    miles_per_gallon = miles/gallons\n",
    "    print(f\"{miles} miles / {gallons} gallons = {miles_per_gallon} miles per gallon\")\n",
    "\n",
    "    \n",
    "user_miles = int(input(\"Please enter miles: \"))\n",
    "user_gallons = int(input(\"Please enter gallons:  \"))\n",
    "calc_miles_per_gallon(user_miles, user_gallons)"
   ]
  },
  {
   "cell_type": "code",
   "execution_count": null,
   "metadata": {},
   "outputs": [],
   "source": []
  }
 ],
 "metadata": {
  "kernelspec": {
   "display_name": "Python 3",
   "language": "python",
   "name": "python3"
  },
  "language_info": {
   "codemirror_mode": {
    "name": "ipython",
    "version": 3
   },
   "file_extension": ".py",
   "mimetype": "text/x-python",
   "name": "python",
   "nbconvert_exporter": "python",
   "pygments_lexer": "ipython3",
   "version": "3.8.8"
  }
 },
 "nbformat": 4,
 "nbformat_minor": 4
}
